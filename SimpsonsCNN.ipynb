{
 "cells": [
  {
   "cell_type": "code",
   "execution_count": 1,
   "id": "85790381-f6ef-49e1-a088-e2910fd9828e",
   "metadata": {},
   "outputs": [],
   "source": [
    "# CNN to classify Simpsons' Characters"
   ]
  },
  {
   "cell_type": "code",
   "execution_count": 2,
   "id": "95286efa-e3e7-40d0-83dc-d27b519a04b3",
   "metadata": {},
   "outputs": [],
   "source": [
    "# for kaggle\n",
    "import kaggle\n",
    "# for lolading imgs\n",
    "import os\n",
    "import numpy as np\n",
    "from tensorflow.keras.preprocessing.image import load_img, img_to_array\n",
    "# for ml\n",
    "import torch"
   ]
  },
  {
   "cell_type": "code",
   "execution_count": 3,
   "id": "ea417168-5a5c-4626-9aec-6a652d651c76",
   "metadata": {},
   "outputs": [],
   "source": [
    "# # get and unzip dataset - only had to run once, done\n",
    "# dataset = 'alexattia/the-simpsons-characters-dataset'\n",
    "# kaggle.api.dataset_download_files(dataset, path=\".\", unzip=True)"
   ]
  },
  {
   "cell_type": "code",
   "execution_count": 4,
   "id": "b58f16c6-6536-450f-9acd-daaac93f6aff",
   "metadata": {},
   "outputs": [
    {
     "name": "stdout",
     "output_type": "stream",
     "text": [
      "['abraham_grampa_simpson', 'agnes_skinner', 'apu_nahasapeemapetilon', 'barney_gumble', 'bart_simpson', 'carl_carlson', 'charles_montgomery_burns', 'chief_wiggum', 'cletus_spuckler', 'comic_book_guy']\n"
     ]
    }
   ],
   "source": [
    "training_character_folders = os.listdir('simpsons_dataset')\n",
    "print(training_character_folders)"
   ]
  },
  {
   "cell_type": "code",
   "execution_count": 5,
   "id": "37db8def-bac0-4307-be52-bd08c87d7de8",
   "metadata": {},
   "outputs": [
    {
     "name": "stdout",
     "output_type": "stream",
     "text": [
      "At index: 0\n",
      "At index: 1\n",
      "At index: 2\n",
      "At index: 3\n",
      "At index: 4\n",
      "At index: 5\n",
      "At index: 6\n",
      "At index: 7\n",
      "At index: 8\n",
      "At index: 9\n",
      "Is np ndarray\n",
      "Train images size: torch.Size([5819, 3, 224, 224])\n",
      "Train labels size: torch.Size([5819])\n"
     ]
    }
   ],
   "source": [
    "training_images = [] # has images\n",
    "labels = [] # has character names\n",
    "label_to_index_map = {} # has character name to num index mapping\n",
    "index = 0\n",
    "\n",
    "for folder in training_character_folders:\n",
    "    label_to_index_map[folder] = index\n",
    "    print(f\"At index: {index}\")\n",
    "    for img_file in os.listdir(os.path.join('simpsons_dataset',folder)):\n",
    "        img = load_img(os.path.join('simpsons_dataset',folder,img_file),target_size=(224,224))\n",
    "        img_array = img_to_array(img)\n",
    "        training_images.append(img_array)\n",
    "        labels.append(index)\n",
    "    index += 1\n",
    "\n",
    "training_images = np.array(training_images)\n",
    "labels = np.array(labels)\n",
    "\n",
    "print(\"Is np ndarray\")\n",
    "\n",
    "training_images = torch.tensor(training_images)\n",
    "training_images = training_images.permute(0, 3, 1, 2) # apparently there is a size mismatch if i dont do this\n",
    "# it expects: [batch_size, channels, height, width]\n",
    "# and i was giving: [batch_size, height, width, channels]\n",
    "labels = torch.tensor(labels).to(torch.long)\n",
    "\n",
    "print(f\"Train images size: {training_images.size()}\")\n",
    "print(f\"Train labels size: {labels.size()}\")"
   ]
  },
  {
   "cell_type": "code",
   "execution_count": 6,
   "id": "54f28a33-aa40-416d-914b-14ddfc9e5310",
   "metadata": {},
   "outputs": [],
   "source": [
    "# dataset making\n",
    "dataset = torch.utils.data.TensorDataset(training_images, labels)\n",
    "dataloader = torch.utils.data.DataLoader(dataset, batch_size=100, shuffle=True)"
   ]
  },
  {
   "cell_type": "code",
   "execution_count": 7,
   "id": "11b32612-f1ed-4bf5-b322-ec3c2c4dbf74",
   "metadata": {},
   "outputs": [],
   "source": [
    "# cnn making\n",
    "class SimpsonCnn(torch.nn.Module):\n",
    "    def __init__(self, num_classes):\n",
    "        super(SimpsonCnn,self).__init__()\n",
    "        self.conv1 = torch.nn.Conv2d(in_channels=3, out_channels=16, stride=1, padding=1, kernel_size=3)\n",
    "        self.conv2 = torch.nn.Conv2d(in_channels=16, out_channels=32, stride=1, padding=1, kernel_size=3)\n",
    "        self.conv3 = torch.nn.Conv2d(in_channels=32, out_channels=64, stride=1, padding=1, kernel_size=3)\n",
    "        self.pool = torch.nn.MaxPool2d(kernel_size=2,stride=2,padding=0)\n",
    "        self.fc1 = torch.nn.Linear(64*28*28, 512)\n",
    "        self.fc2 = torch.nn.Linear(512,num_classes)\n",
    "    def forward(self, inputs):\n",
    "        layer_output = self.pool(torch.relu(self.conv1(inputs)))\n",
    "        # new size after conv1 = floor((n-f+2p)/s) + 1 => floor((n-3+2)/1) + 1 => floor(n-1) + 1 => n\n",
    "        # new size after pooling = floor((n-f+2p)/s) + 1 => floor((n-2+0)/2) + 1 => floor((224-2)/2) + 1 => floor(111) + 1 = 112\n",
    "        # n = 112 now\n",
    "        layer_output = self.pool(torch.relu(self.conv2(layer_output)))\n",
    "        # new size after conv2 = floor((n-f+2p)/s) + 1 => floor((n-3+2)/1) + 1 => floor(n-1) + 1 => n\n",
    "        # new size after pooling = floor((n-f+2p)/s) + 1 => floor((n-2+0)/2) + 1 => floor((112-2)/2) + 1 => floor(110) + 1 = 56\n",
    "        # n = 56 now\n",
    "        layer_output = self.pool(torch.relu(self.conv3(layer_output)))\n",
    "        # new size after conv3 = floor((n-f+2p)/s) + 1 => floor((n-3+2)/1) + 1 => floor(n-1) + 1 => n\n",
    "        # new size after pooling = floor((n-f+2p)/s) + 1 => floor((n-2+0)/2) + 1 => floor((56-2)/2) + 1 => floor(27) + 1 = 28\n",
    "        # n = 28 now\n",
    "        # each input of form 28x28x64 rn, 3d and then total inputs = 5819 so 4d\n",
    "        layer_output = layer_output.view(-1,64*28*28) # reshape to 2 dim of size = (total_input_size, 28*28*64)\n",
    "        layer_output = torch.relu(self.fc1(layer_output))\n",
    "        layer_output = self.fc2(layer_output) # dont apply activation here on last\n",
    "        return layer_output"
   ]
  },
  {
   "cell_type": "code",
   "execution_count": 8,
   "id": "dfdd5db4-1d3c-4d08-953a-f594364a9003",
   "metadata": {},
   "outputs": [],
   "source": [
    "model = SimpsonCnn(index)\n",
    "loss_function = torch.nn.CrossEntropyLoss()\n",
    "optimizer = torch.optim.Adam(model.parameters(), lr=0.001)"
   ]
  },
  {
   "cell_type": "code",
   "execution_count": 9,
   "id": "5bf664da-2ab4-49fc-bd2a-7ec739ce8a4d",
   "metadata": {},
   "outputs": [
    {
     "name": "stdout",
     "output_type": "stream",
     "text": [
      "In epoch 0 the loss is 2.2429\n",
      "In epoch 1 the loss is 2.1461\n",
      "In epoch 2 the loss is 0.8479\n",
      "In epoch 3 the loss is 0.5689\n",
      "In epoch 4 the loss is 0.1808\n",
      "In epoch 5 the loss is 0.1064\n",
      "In epoch 6 the loss is 0.0072\n",
      "In epoch 7 the loss is 0.0118\n",
      "In epoch 8 the loss is 0.0343\n",
      "In epoch 9 the loss is 0.0120\n"
     ]
    }
   ],
   "source": [
    "num_epochs = 10\n",
    "for epoch in range(num_epochs):\n",
    "    model.train()\n",
    "    for inputs, labels in dataloader:\n",
    "        optimizer.zero_grad()\n",
    "        predicted_output = model.forward(inputs)\n",
    "        loss = loss_function(predicted_output, labels)\n",
    "        loss.backward()\n",
    "        optimizer.step()\n",
    "    print(f\"In epoch {epoch} the loss is {loss.item():.4f}\")"
   ]
  },
  {
   "cell_type": "code",
   "execution_count": 10,
   "id": "ece49f06-683c-4e5a-9324-0e3755f98997",
   "metadata": {},
   "outputs": [
    {
     "name": "stdout",
     "output_type": "stream",
     "text": [
      "Test imgs dims: torch.Size([295, 3, 224, 224])\n",
      "Test labels dims: torch.Size([295])\n"
     ]
    }
   ],
   "source": [
    "test_labels = []\n",
    "test_imgs = []\n",
    "for img_file in os.listdir('kaggle_simpson_testset/kaggle_simpson_testset'):\n",
    "    name = img_file.split('_')\n",
    "    label = '_'.join(name[:-1])\n",
    "    index = label_to_index_map[label]\n",
    "    img = load_img(os.path.join('kaggle_simpson_testset/kaggle_simpson_testset',img_file),target_size=(224,224))\n",
    "    img_array = img_to_array(img)\n",
    "    # print(f\"{name[:-1]} gets label {label} and index {index}\")\n",
    "    test_imgs.append(img_array)\n",
    "    test_labels.append(index)\n",
    "\n",
    "test_imgs = np.array(test_imgs)\n",
    "test_labels = np.array(test_labels)\n",
    "\n",
    "test_imgs = torch.tensor(test_imgs)\n",
    "test_labels = torch.tensor(test_labels).to(torch.long)\n",
    "\n",
    "test_imgs = test_imgs.permute(0,3,1,2) # reshape\n",
    "\n",
    "print(f\"Test imgs dims: {test_imgs.size()}\")\n",
    "print(f\"Test labels dims: {test_labels.size()}\")"
   ]
  },
  {
   "cell_type": "code",
   "execution_count": 11,
   "id": "a364322f-0133-43a2-9eb4-3bc091914a53",
   "metadata": {},
   "outputs": [],
   "source": [
    "dataset = torch.utils.data.TensorDataset(test_imgs, test_labels)\n",
    "dataloader = torch.utils.data.DataLoader(dataset, batch_size=100, shuffle=False)"
   ]
  },
  {
   "cell_type": "code",
   "execution_count": 14,
   "id": "6e0d4b14-b651-4810-8a3b-dc387798ed45",
   "metadata": {},
   "outputs": [
    {
     "name": "stdout",
     "output_type": "stream",
     "text": [
      "Testing Accuracy: 0.97\n"
     ]
    }
   ],
   "source": [
    "model.eval()\n",
    "correct = total = 0\n",
    "\n",
    "with torch.no_grad():\n",
    "    for inputs, labels in dataloader:\n",
    "        predicted_output = model.forward(inputs)\n",
    "        _, predicted_output = torch.max(predicted_output.data,1)\n",
    "        total += labels.size(0) # increment by batch_size\n",
    "        correct += (labels == predicted_output).sum().item()\n",
    "\n",
    "accuracy = correct/total\n",
    "print(f\"Testing Accuracy: {accuracy:.2f}\")"
   ]
  }
 ],
 "metadata": {
  "kernelspec": {
   "display_name": "Python 3 (ipykernel)",
   "language": "python",
   "name": "python3"
  },
  "language_info": {
   "codemirror_mode": {
    "name": "ipython",
    "version": 3
   },
   "file_extension": ".py",
   "mimetype": "text/x-python",
   "name": "python",
   "nbconvert_exporter": "python",
   "pygments_lexer": "ipython3",
   "version": "3.11.5"
  }
 },
 "nbformat": 4,
 "nbformat_minor": 5
}
